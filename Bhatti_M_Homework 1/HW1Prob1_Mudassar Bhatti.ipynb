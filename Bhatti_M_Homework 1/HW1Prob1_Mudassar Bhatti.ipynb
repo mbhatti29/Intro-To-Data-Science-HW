{
 "cells": [
  {
   "cell_type": "markdown",
   "metadata": {},
   "source": [
    "# Homework 1. Exploratory Data Analysis (Prob 1)\n",
    "\n",
    "This HW Based on Harvard CS109. All work must be your original code.\n",
    "---"
   ]
  },
  {
   "cell_type": "markdown",
   "metadata": {},
   "source": [
    "\n",
    "## Introduction\n",
    "\n",
    "In this homework we ask you three questions that we expect you to answer using data. For each question we ask you to complete a series of tasks that should help guide you through the data analysis. Complete these tasks and then write a short (100 words or less) answer to the question.\n",
    "\n",
    "**Note**: We will briefly discuss this homework assignment on Thursday in class.\n",
    "\n",
    "#### Data\n",
    "\n",
    "The [Sean Lahman's Baseball Database](http://seanlahman.com/baseball-archive/statistics) which contains the \"complete batting and pitching statistics from 1871 to 2013, plus fielding statistics, standings, team stats, managerial records, post-season data, and more. For more details on the latest release, please [read the documentation](http://seanlahman.com/files/database/readme2012.txt).\"\n",
    " \n",
    "#### Purpose\n",
    "\n",
    "In this assignment, you will learn how to: \n",
    "\n",
    "a. Load in CSV files from the web. \n",
    "\n",
    "b. Create functions in python. \n",
    "\n",
    "C. Create plots and summary statistics for exploratory data analysis such as histograms, boxplots and scatter plots. \n",
    "\n",
    "\n",
    "#### Useful libraries for this assignment \n",
    "\n",
    "* [numpy](http://docs.scipy.org/doc/numpy-dev/user/index.html), for arrays\n",
    "* [pandas](http://pandas.pydata.org/), for data frames\n",
    "* [matplotlib](http://matplotlib.org/), for plotting\n",
    "* [requests](http://docs.python-requests.org/en/latest/), grabbing from web\n",
    "* [IO](https://docs.python.org/3/library/io.html), for StringIO stream\n",
    "* [zipfile](https://docs.python.org/3/library/zipfile.html), for decompressing zip files.\n",
    "\n",
    "---"
   ]
  },
  {
   "cell_type": "code",
   "execution_count": 2,
   "metadata": {
    "collapsed": false
   },
   "outputs": [],
   "source": [
    "# special IPython command to prepare the notebook for matplotlib\n",
    "%matplotlib inline \n",
    "\n",
    "import numpy as np\n",
    "import pandas as pd\n",
    "import matplotlib.pyplot as plt"
   ]
  },
  {
   "cell_type": "markdown",
   "metadata": {},
   "source": [
    "## Problem 1\n",
    "\n",
    "The Oakland Athletics provides a wonderful success story for data science as profiled in Michael Lewis's 2003 book [Moneyball](https://en.wikipedia.org/wiki/Moneyball) and discussed recently on Nate Silver's [fivethirtyeight](http://fivethirtyeight.com/features/billion-dollar-billy-beane). In 2002 and 2003 Oakland A's had a competitive advantage using data science. Since, others teams have started using data science as well. Use exploratory data analysis to determine if the competitive advantage has since disappeared.  Download this ipython notebook and submit a new version with your original solutions filled in."
   ]
  },
  {
   "cell_type": "markdown",
   "metadata": {},
   "source": [
    "#### Problem 1(a) \n",
    "Load in [these CSV files](http://seanlahman.com/files/database/lahman-csv_2014-02-14.zip) from the [Sean Lahman's Baseball Database](http://seanlahman.com/baseball-archive/statistics). For this assignment, we will use the 'Salaries.csv' and 'Teams.csv' tables. Read these tables into a pandas `DataFrame` and show the head of each table. \n",
    "\n",
    "**Hint** Use the [requests](http://docs.python-requests.org/en/latest/), [IO](https://docs.python.org/3/library/io.html) and [zipfile](https://docs.python.org/3/library/zipfile.html) modules to get from the web.  "
   ]
  },
  {
   "cell_type": "code",
   "execution_count": 3,
   "metadata": {
    "collapsed": false,
    "scrolled": true
   },
   "outputs": [],
   "source": [
    "import requests\n",
    "import zipfile\n",
    "import os.path\n",
    "import io\n",
    "import pandas as pd"
   ]
  },
  {
   "cell_type": "code",
   "execution_count": 4,
   "metadata": {
    "collapsed": false
   },
   "outputs": [
    {
     "data": {
      "text/html": [
       "<div>\n",
       "<table border=\"1\" class=\"dataframe\">\n",
       "  <thead>\n",
       "    <tr style=\"text-align: right;\">\n",
       "      <th></th>\n",
       "      <th>yearID</th>\n",
       "      <th>lgID</th>\n",
       "      <th>teamID</th>\n",
       "      <th>franchID</th>\n",
       "      <th>divID</th>\n",
       "      <th>Rank</th>\n",
       "      <th>G</th>\n",
       "      <th>Ghome</th>\n",
       "      <th>W</th>\n",
       "      <th>L</th>\n",
       "      <th>...</th>\n",
       "      <th>DP</th>\n",
       "      <th>FP</th>\n",
       "      <th>name</th>\n",
       "      <th>park</th>\n",
       "      <th>attendance</th>\n",
       "      <th>BPF</th>\n",
       "      <th>PPF</th>\n",
       "      <th>teamIDBR</th>\n",
       "      <th>teamIDlahman45</th>\n",
       "      <th>teamIDretro</th>\n",
       "    </tr>\n",
       "  </thead>\n",
       "  <tbody>\n",
       "    <tr>\n",
       "      <th>0</th>\n",
       "      <td>1871</td>\n",
       "      <td>NaN</td>\n",
       "      <td>PH1</td>\n",
       "      <td>PNA</td>\n",
       "      <td>NaN</td>\n",
       "      <td>1</td>\n",
       "      <td>28</td>\n",
       "      <td>NaN</td>\n",
       "      <td>21</td>\n",
       "      <td>7</td>\n",
       "      <td>...</td>\n",
       "      <td>NaN</td>\n",
       "      <td>0.84</td>\n",
       "      <td>Philadelphia Athletics</td>\n",
       "      <td>Jefferson Street Grounds</td>\n",
       "      <td>NaN</td>\n",
       "      <td>102</td>\n",
       "      <td>98</td>\n",
       "      <td>ATH</td>\n",
       "      <td>PH1</td>\n",
       "      <td>PH1</td>\n",
       "    </tr>\n",
       "    <tr>\n",
       "      <th>1</th>\n",
       "      <td>1871</td>\n",
       "      <td>NaN</td>\n",
       "      <td>CH1</td>\n",
       "      <td>CNA</td>\n",
       "      <td>NaN</td>\n",
       "      <td>2</td>\n",
       "      <td>28</td>\n",
       "      <td>NaN</td>\n",
       "      <td>19</td>\n",
       "      <td>9</td>\n",
       "      <td>...</td>\n",
       "      <td>NaN</td>\n",
       "      <td>0.82</td>\n",
       "      <td>Chicago White Stockings</td>\n",
       "      <td>Union Base-Ball Grounds</td>\n",
       "      <td>NaN</td>\n",
       "      <td>104</td>\n",
       "      <td>102</td>\n",
       "      <td>CHI</td>\n",
       "      <td>CH1</td>\n",
       "      <td>CH1</td>\n",
       "    </tr>\n",
       "    <tr>\n",
       "      <th>2</th>\n",
       "      <td>1871</td>\n",
       "      <td>NaN</td>\n",
       "      <td>BS1</td>\n",
       "      <td>BNA</td>\n",
       "      <td>NaN</td>\n",
       "      <td>3</td>\n",
       "      <td>31</td>\n",
       "      <td>NaN</td>\n",
       "      <td>20</td>\n",
       "      <td>10</td>\n",
       "      <td>...</td>\n",
       "      <td>NaN</td>\n",
       "      <td>0.83</td>\n",
       "      <td>Boston Red Stockings</td>\n",
       "      <td>South End Grounds I</td>\n",
       "      <td>NaN</td>\n",
       "      <td>103</td>\n",
       "      <td>98</td>\n",
       "      <td>BOS</td>\n",
       "      <td>BS1</td>\n",
       "      <td>BS1</td>\n",
       "    </tr>\n",
       "    <tr>\n",
       "      <th>3</th>\n",
       "      <td>1871</td>\n",
       "      <td>NaN</td>\n",
       "      <td>WS3</td>\n",
       "      <td>OLY</td>\n",
       "      <td>NaN</td>\n",
       "      <td>4</td>\n",
       "      <td>32</td>\n",
       "      <td>NaN</td>\n",
       "      <td>15</td>\n",
       "      <td>15</td>\n",
       "      <td>...</td>\n",
       "      <td>NaN</td>\n",
       "      <td>0.85</td>\n",
       "      <td>Washington Olympics</td>\n",
       "      <td>Olympics Grounds</td>\n",
       "      <td>NaN</td>\n",
       "      <td>94</td>\n",
       "      <td>98</td>\n",
       "      <td>OLY</td>\n",
       "      <td>WS3</td>\n",
       "      <td>WS3</td>\n",
       "    </tr>\n",
       "    <tr>\n",
       "      <th>4</th>\n",
       "      <td>1871</td>\n",
       "      <td>NaN</td>\n",
       "      <td>NY2</td>\n",
       "      <td>NNA</td>\n",
       "      <td>NaN</td>\n",
       "      <td>5</td>\n",
       "      <td>33</td>\n",
       "      <td>NaN</td>\n",
       "      <td>16</td>\n",
       "      <td>17</td>\n",
       "      <td>...</td>\n",
       "      <td>NaN</td>\n",
       "      <td>0.83</td>\n",
       "      <td>New York Mutuals</td>\n",
       "      <td>Union Grounds (Brooklyn)</td>\n",
       "      <td>NaN</td>\n",
       "      <td>90</td>\n",
       "      <td>88</td>\n",
       "      <td>NYU</td>\n",
       "      <td>NY2</td>\n",
       "      <td>NY2</td>\n",
       "    </tr>\n",
       "  </tbody>\n",
       "</table>\n",
       "<p>5 rows × 48 columns</p>\n",
       "</div>"
      ],
      "text/plain": [
       "   yearID lgID teamID franchID divID  Rank   G  Ghome   W   L     ...       \\\n",
       "0    1871  NaN    PH1      PNA   NaN     1  28    NaN  21   7     ...        \n",
       "1    1871  NaN    CH1      CNA   NaN     2  28    NaN  19   9     ...        \n",
       "2    1871  NaN    BS1      BNA   NaN     3  31    NaN  20  10     ...        \n",
       "3    1871  NaN    WS3      OLY   NaN     4  32    NaN  15  15     ...        \n",
       "4    1871  NaN    NY2      NNA   NaN     5  33    NaN  16  17     ...        \n",
       "\n",
       "   DP    FP                     name                      park  attendance  \\\n",
       "0 NaN  0.84   Philadelphia Athletics  Jefferson Street Grounds         NaN   \n",
       "1 NaN  0.82  Chicago White Stockings   Union Base-Ball Grounds         NaN   \n",
       "2 NaN  0.83     Boston Red Stockings       South End Grounds I         NaN   \n",
       "3 NaN  0.85      Washington Olympics          Olympics Grounds         NaN   \n",
       "4 NaN  0.83         New York Mutuals  Union Grounds (Brooklyn)         NaN   \n",
       "\n",
       "   BPF  PPF  teamIDBR  teamIDlahman45  teamIDretro  \n",
       "0  102   98       ATH             PH1          PH1  \n",
       "1  104  102       CHI             CH1          CH1  \n",
       "2  103   98       BOS             BS1          BS1  \n",
       "3   94   98       OLY             WS3          WS3  \n",
       "4   90   88       NYU             NY2          NY2  \n",
       "\n",
       "[5 rows x 48 columns]"
      ]
     },
     "execution_count": 4,
     "metadata": {},
     "output_type": "execute_result"
    }
   ],
   "source": [
    "request = requests.get('http://seanlahman.com/files/database/lahman-csv_2014-02-14.zip')\n",
    "File = zipfile.ZipFile(io.BytesIO(request.content))\n",
    "\n",
    "salaries = pd.read_csv(File.open('Salaries.csv'))\n",
    "teams = pd.read_csv(File.open('Teams.csv'))\n",
    "\n",
    "teams.head()"
   ]
  },
  {
   "cell_type": "code",
   "execution_count": 5,
   "metadata": {
    "collapsed": false
   },
   "outputs": [
    {
     "data": {
      "text/html": [
       "<div>\n",
       "<table border=\"1\" class=\"dataframe\">\n",
       "  <thead>\n",
       "    <tr style=\"text-align: right;\">\n",
       "      <th></th>\n",
       "      <th>yearID</th>\n",
       "      <th>teamID</th>\n",
       "      <th>lgID</th>\n",
       "      <th>playerID</th>\n",
       "      <th>salary</th>\n",
       "    </tr>\n",
       "  </thead>\n",
       "  <tbody>\n",
       "    <tr>\n",
       "      <th>0</th>\n",
       "      <td>1985</td>\n",
       "      <td>BAL</td>\n",
       "      <td>AL</td>\n",
       "      <td>murraed02</td>\n",
       "      <td>1472819</td>\n",
       "    </tr>\n",
       "    <tr>\n",
       "      <th>1</th>\n",
       "      <td>1985</td>\n",
       "      <td>BAL</td>\n",
       "      <td>AL</td>\n",
       "      <td>lynnfr01</td>\n",
       "      <td>1090000</td>\n",
       "    </tr>\n",
       "    <tr>\n",
       "      <th>2</th>\n",
       "      <td>1985</td>\n",
       "      <td>BAL</td>\n",
       "      <td>AL</td>\n",
       "      <td>ripkeca01</td>\n",
       "      <td>800000</td>\n",
       "    </tr>\n",
       "    <tr>\n",
       "      <th>3</th>\n",
       "      <td>1985</td>\n",
       "      <td>BAL</td>\n",
       "      <td>AL</td>\n",
       "      <td>lacyle01</td>\n",
       "      <td>725000</td>\n",
       "    </tr>\n",
       "    <tr>\n",
       "      <th>4</th>\n",
       "      <td>1985</td>\n",
       "      <td>BAL</td>\n",
       "      <td>AL</td>\n",
       "      <td>flanami01</td>\n",
       "      <td>641667</td>\n",
       "    </tr>\n",
       "  </tbody>\n",
       "</table>\n",
       "</div>"
      ],
      "text/plain": [
       "   yearID teamID lgID   playerID   salary\n",
       "0    1985    BAL   AL  murraed02  1472819\n",
       "1    1985    BAL   AL   lynnfr01  1090000\n",
       "2    1985    BAL   AL  ripkeca01   800000\n",
       "3    1985    BAL   AL   lacyle01   725000\n",
       "4    1985    BAL   AL  flanami01   641667"
      ]
     },
     "execution_count": 5,
     "metadata": {},
     "output_type": "execute_result"
    }
   ],
   "source": [
    "salaries.head()"
   ]
  },
  {
   "cell_type": "markdown",
   "metadata": {},
   "source": [
    "#### Problem 1(b)\n",
    "\n",
    "Summarize the Salaries DataFrame to show the total salaries for each team for each year. Show the head of the new summarized DataFrame. "
   ]
  },
  {
   "cell_type": "code",
   "execution_count": 6,
   "metadata": {
    "collapsed": false
   },
   "outputs": [
    {
     "data": {
      "text/html": [
       "<div>\n",
       "<table border=\"1\" class=\"dataframe\">\n",
       "  <thead>\n",
       "    <tr style=\"text-align: right;\">\n",
       "      <th></th>\n",
       "      <th></th>\n",
       "      <th>salary</th>\n",
       "    </tr>\n",
       "    <tr>\n",
       "      <th>teamID</th>\n",
       "      <th>yearID</th>\n",
       "      <th></th>\n",
       "    </tr>\n",
       "  </thead>\n",
       "  <tbody>\n",
       "    <tr>\n",
       "      <th rowspan=\"5\" valign=\"top\">ANA</th>\n",
       "      <th>1997</th>\n",
       "      <td>31135472</td>\n",
       "    </tr>\n",
       "    <tr>\n",
       "      <th>1998</th>\n",
       "      <td>41281000</td>\n",
       "    </tr>\n",
       "    <tr>\n",
       "      <th>1999</th>\n",
       "      <td>55388166</td>\n",
       "    </tr>\n",
       "    <tr>\n",
       "      <th>2000</th>\n",
       "      <td>51464167</td>\n",
       "    </tr>\n",
       "    <tr>\n",
       "      <th>2001</th>\n",
       "      <td>47535167</td>\n",
       "    </tr>\n",
       "  </tbody>\n",
       "</table>\n",
       "</div>"
      ],
      "text/plain": [
       "                 salary\n",
       "teamID yearID          \n",
       "ANA    1997    31135472\n",
       "       1998    41281000\n",
       "       1999    55388166\n",
       "       2000    51464167\n",
       "       2001    47535167"
      ]
     },
     "execution_count": 6,
     "metadata": {},
     "output_type": "execute_result"
    }
   ],
   "source": [
    "totalsalaries = salaries.groupby(['teamID', 'yearID']).sum()\n",
    "totalsalaries.head()"
   ]
  },
  {
   "cell_type": "code",
   "execution_count": null,
   "metadata": {
    "collapsed": true
   },
   "outputs": [],
   "source": []
  },
  {
   "cell_type": "markdown",
   "metadata": {},
   "source": [
    "#### Problem 1(c)\n",
    "\n",
    "Merge the new summarized Salaries DataFrame and Teams DataFrame together to create a new DataFrame showing wins and total salaries for each team for each year. Show the head of the new merged DataFrame.\n",
    "\n",
    "**Hint**: Merge the DataFrames using `teamID` and `yearID`."
   ]
  },
  {
   "cell_type": "code",
   "execution_count": 17,
   "metadata": {
    "collapsed": false
   },
   "outputs": [
    {
     "data": {
      "text/html": [
       "<div>\n",
       "<table border=\"1\" class=\"dataframe\">\n",
       "  <thead>\n",
       "    <tr style=\"text-align: right;\">\n",
       "      <th></th>\n",
       "      <th>yearID</th>\n",
       "      <th>teamID</th>\n",
       "      <th>W</th>\n",
       "    </tr>\n",
       "  </thead>\n",
       "  <tbody>\n",
       "    <tr>\n",
       "      <th>0</th>\n",
       "      <td>1871</td>\n",
       "      <td>PH1</td>\n",
       "      <td>21</td>\n",
       "    </tr>\n",
       "    <tr>\n",
       "      <th>1</th>\n",
       "      <td>1871</td>\n",
       "      <td>CH1</td>\n",
       "      <td>19</td>\n",
       "    </tr>\n",
       "    <tr>\n",
       "      <th>2</th>\n",
       "      <td>1871</td>\n",
       "      <td>BS1</td>\n",
       "      <td>20</td>\n",
       "    </tr>\n",
       "    <tr>\n",
       "      <th>3</th>\n",
       "      <td>1871</td>\n",
       "      <td>WS3</td>\n",
       "      <td>15</td>\n",
       "    </tr>\n",
       "    <tr>\n",
       "      <th>4</th>\n",
       "      <td>1871</td>\n",
       "      <td>NY2</td>\n",
       "      <td>16</td>\n",
       "    </tr>\n",
       "  </tbody>\n",
       "</table>\n",
       "</div>"
      ],
      "text/plain": [
       "   yearID teamID   W\n",
       "0    1871    PH1  21\n",
       "1    1871    CH1  19\n",
       "2    1871    BS1  20\n",
       "3    1871    WS3  15\n",
       "4    1871    NY2  16"
      ]
     },
     "execution_count": 17,
     "metadata": {},
     "output_type": "execute_result"
    }
   ],
   "source": [
    "teams = teams.loc[:,['yearID', 'teamID', 'W']]\n",
    "teams.head()"
   ]
  },
  {
   "cell_type": "code",
   "execution_count": 14,
   "metadata": {
    "collapsed": false
   },
   "outputs": [
    {
     "data": {
      "text/html": [
       "<div>\n",
       "<table border=\"1\" class=\"dataframe\">\n",
       "  <thead>\n",
       "    <tr style=\"text-align: right;\">\n",
       "      <th></th>\n",
       "      <th>yearID</th>\n",
       "      <th>teamID</th>\n",
       "      <th>salary</th>\n",
       "    </tr>\n",
       "  </thead>\n",
       "  <tbody>\n",
       "    <tr>\n",
       "      <th>0</th>\n",
       "      <td>1985</td>\n",
       "      <td>BAL</td>\n",
       "      <td>1472819</td>\n",
       "    </tr>\n",
       "    <tr>\n",
       "      <th>1</th>\n",
       "      <td>1985</td>\n",
       "      <td>BAL</td>\n",
       "      <td>1090000</td>\n",
       "    </tr>\n",
       "    <tr>\n",
       "      <th>2</th>\n",
       "      <td>1985</td>\n",
       "      <td>BAL</td>\n",
       "      <td>800000</td>\n",
       "    </tr>\n",
       "    <tr>\n",
       "      <th>3</th>\n",
       "      <td>1985</td>\n",
       "      <td>BAL</td>\n",
       "      <td>725000</td>\n",
       "    </tr>\n",
       "    <tr>\n",
       "      <th>4</th>\n",
       "      <td>1985</td>\n",
       "      <td>BAL</td>\n",
       "      <td>641667</td>\n",
       "    </tr>\n",
       "  </tbody>\n",
       "</table>\n",
       "</div>"
      ],
      "text/plain": [
       "   yearID teamID   salary\n",
       "0    1985    BAL  1472819\n",
       "1    1985    BAL  1090000\n",
       "2    1985    BAL   800000\n",
       "3    1985    BAL   725000\n",
       "4    1985    BAL   641667"
      ]
     },
     "execution_count": 14,
     "metadata": {},
     "output_type": "execute_result"
    }
   ],
   "source": [
    "totalsalaries = salaries.loc[:,['yearID', 'teamID', 'salary']]\n",
    "totalsalaries.head()"
   ]
  },
  {
   "cell_type": "code",
   "execution_count": null,
   "metadata": {
    "collapsed": true
   },
   "outputs": [],
   "source": []
  },
  {
   "cell_type": "code",
   "execution_count": 18,
   "metadata": {
    "collapsed": false
   },
   "outputs": [
    {
     "data": {
      "text/html": [
       "<div>\n",
       "<table border=\"1\" class=\"dataframe\">\n",
       "  <thead>\n",
       "    <tr style=\"text-align: right;\">\n",
       "      <th></th>\n",
       "      <th>teamID</th>\n",
       "      <th>yearID</th>\n",
       "      <th>salary</th>\n",
       "    </tr>\n",
       "  </thead>\n",
       "  <tbody>\n",
       "    <tr>\n",
       "      <th>0</th>\n",
       "      <td>ANA</td>\n",
       "      <td>1997</td>\n",
       "      <td>31135472</td>\n",
       "    </tr>\n",
       "    <tr>\n",
       "      <th>1</th>\n",
       "      <td>ANA</td>\n",
       "      <td>1998</td>\n",
       "      <td>41281000</td>\n",
       "    </tr>\n",
       "    <tr>\n",
       "      <th>2</th>\n",
       "      <td>ANA</td>\n",
       "      <td>1999</td>\n",
       "      <td>55388166</td>\n",
       "    </tr>\n",
       "    <tr>\n",
       "      <th>3</th>\n",
       "      <td>ANA</td>\n",
       "      <td>2000</td>\n",
       "      <td>51464167</td>\n",
       "    </tr>\n",
       "    <tr>\n",
       "      <th>4</th>\n",
       "      <td>ANA</td>\n",
       "      <td>2001</td>\n",
       "      <td>47535167</td>\n",
       "    </tr>\n",
       "  </tbody>\n",
       "</table>\n",
       "</div>"
      ],
      "text/plain": [
       "  teamID  yearID    salary\n",
       "0    ANA    1997  31135472\n",
       "1    ANA    1998  41281000\n",
       "2    ANA    1999  55388166\n",
       "3    ANA    2000  51464167\n",
       "4    ANA    2001  47535167"
      ]
     },
     "execution_count": 18,
     "metadata": {},
     "output_type": "execute_result"
    }
   ],
   "source": [
    "salariesTeam = totalsalaries.groupby(['teamID', 'yearID']).sum()\n",
    "salariesTotal = salariesTeam.reset_index()\n",
    "salariesTotal.head()"
   ]
  },
  {
   "cell_type": "code",
   "execution_count": 23,
   "metadata": {
    "collapsed": false
   },
   "outputs": [
    {
     "data": {
      "text/html": [
       "<div>\n",
       "<table border=\"1\" class=\"dataframe\">\n",
       "  <thead>\n",
       "    <tr style=\"text-align: right;\">\n",
       "      <th></th>\n",
       "      <th></th>\n",
       "      <th>W</th>\n",
       "      <th>salary</th>\n",
       "    </tr>\n",
       "    <tr>\n",
       "      <th>teamID</th>\n",
       "      <th>yearID</th>\n",
       "      <th></th>\n",
       "      <th></th>\n",
       "    </tr>\n",
       "  </thead>\n",
       "  <tbody>\n",
       "    <tr>\n",
       "      <th rowspan=\"5\" valign=\"top\">ANA</th>\n",
       "      <th>1997</th>\n",
       "      <td>84</td>\n",
       "      <td>31135472</td>\n",
       "    </tr>\n",
       "    <tr>\n",
       "      <th>1998</th>\n",
       "      <td>85</td>\n",
       "      <td>41281000</td>\n",
       "    </tr>\n",
       "    <tr>\n",
       "      <th>1999</th>\n",
       "      <td>70</td>\n",
       "      <td>55388166</td>\n",
       "    </tr>\n",
       "    <tr>\n",
       "      <th>2000</th>\n",
       "      <td>82</td>\n",
       "      <td>51464167</td>\n",
       "    </tr>\n",
       "    <tr>\n",
       "      <th>2001</th>\n",
       "      <td>75</td>\n",
       "      <td>47535167</td>\n",
       "    </tr>\n",
       "  </tbody>\n",
       "</table>\n",
       "</div>"
      ],
      "text/plain": [
       "                W    salary\n",
       "teamID yearID              \n",
       "ANA    1997    84  31135472\n",
       "       1998    85  41281000\n",
       "       1999    70  55388166\n",
       "       2000    82  51464167\n",
       "       2001    75  47535167"
      ]
     },
     "execution_count": 23,
     "metadata": {},
     "output_type": "execute_result"
    }
   ],
   "source": [
    "join = pd.merge(teams, salariesTotal, on=['yearID', 'teamID'], how='inner')\n",
    "merged = join.groupby(['teamID', 'yearID']).sum()\n",
    "merged.head()"
   ]
  },
  {
   "cell_type": "markdown",
   "metadata": {},
   "source": [
    "#### Problem 1(d)\n",
    "\n",
    "How would you graphically display the relationship between total wins and total salaries for a given year? What kind of plot would be best? Choose a plot to show this relationship and specifically annotate the Oakland baseball team on the on the plot. Show this plot across multiple years. In which years can you detect a competitive advantage from the Oakland baseball team of using data science? When did this end? \n",
    "\n",
    "**Hints**: Use a `for` loop to consider multiple years. Use the `teamID` (three letter representation of the team name) to save space on the plot.  "
   ]
  },
  {
   "cell_type": "code",
   "execution_count": 27,
   "metadata": {
    "collapsed": false
   },
   "outputs": [
    {
     "data": {
      "text/html": [
       "<div>\n",
       "<table border=\"1\" class=\"dataframe\">\n",
       "  <thead>\n",
       "    <tr style=\"text-align: right;\">\n",
       "      <th></th>\n",
       "      <th>teamID</th>\n",
       "      <th>yearID</th>\n",
       "      <th>W</th>\n",
       "      <th>salary</th>\n",
       "    </tr>\n",
       "  </thead>\n",
       "  <tbody>\n",
       "    <tr>\n",
       "      <th>0</th>\n",
       "      <td>ANA</td>\n",
       "      <td>1997</td>\n",
       "      <td>84</td>\n",
       "      <td>31135472</td>\n",
       "    </tr>\n",
       "    <tr>\n",
       "      <th>1</th>\n",
       "      <td>ANA</td>\n",
       "      <td>1998</td>\n",
       "      <td>85</td>\n",
       "      <td>41281000</td>\n",
       "    </tr>\n",
       "    <tr>\n",
       "      <th>2</th>\n",
       "      <td>ANA</td>\n",
       "      <td>1999</td>\n",
       "      <td>70</td>\n",
       "      <td>55388166</td>\n",
       "    </tr>\n",
       "    <tr>\n",
       "      <th>3</th>\n",
       "      <td>ANA</td>\n",
       "      <td>2000</td>\n",
       "      <td>82</td>\n",
       "      <td>51464167</td>\n",
       "    </tr>\n",
       "    <tr>\n",
       "      <th>4</th>\n",
       "      <td>ANA</td>\n",
       "      <td>2001</td>\n",
       "      <td>75</td>\n",
       "      <td>47535167</td>\n",
       "    </tr>\n",
       "  </tbody>\n",
       "</table>\n",
       "</div>"
      ],
      "text/plain": [
       "  teamID  yearID   W    salary\n",
       "0    ANA    1997  84  31135472\n",
       "1    ANA    1998  85  41281000\n",
       "2    ANA    1999  70  55388166\n",
       "3    ANA    2000  82  51464167\n",
       "4    ANA    2001  75  47535167"
      ]
     },
     "execution_count": 27,
     "metadata": {},
     "output_type": "execute_result"
    }
   ],
   "source": [
    "merged = merged.reset_index()\n",
    "merged.head()"
   ]
  },
  {
   "cell_type": "code",
   "execution_count": 46,
   "metadata": {
    "collapsed": false
   },
   "outputs": [
    {
     "data": {
      "image/png": "[encoded data removed]",
      "text/plain": [
       "<matplotlib.figure.Figure at 0x1b16823cd30>"
      ]
     },
     "metadata": {},
     "output_type": "display_data"
    }
   ],
   "source": [
    "# we use 1998 sicne they had 85 wins with a lower salarycap then other years\n",
    "merged98 = merged[merged.yearID==1998]\n",
    "W98 = merged98['W']\n",
    "salaries98=merged98['salary']\n",
    "team98 = merged98['teamID']\n",
    "\n",
    "salaries98_val = salaries98.values\n",
    "W98_val = W98.values\n",
    "team98_val = team98.values\n",
    "\n",
    "SSF = 1000000.0\n",
    "\n",
    "X = np.divide(salaries98_val, SSF)\n",
    "Y = W98_val\n",
    "\n",
    "plt.scatter(X,Y)\n",
    "plt.title('Total wins and salaries in 1998')    \n",
    "plt.xlabel('Total Salaries')\n",
    "plt.ylabel('W')\n",
    "plt.show()"
   ]
  },
  {
   "cell_type": "markdown",
   "metadata": {},
   "source": [
    "#### Problem 1(e):\n",
    "\n",
    "Fit a linear regression to the data from each year and obtain the residuals. Plot the residuals against time to detect patterns that support your answer in 1(d). "
   ]
  },
  {
   "cell_type": "code",
   "execution_count": 60,
   "metadata": {
    "collapsed": false
   },
   "outputs": [
    {
     "data": {
      "image/png": "[encoded data removed]",
      "text/plain": [
       "<matplotlib.figure.Figure at 0x1b169ad22e8>"
      ]
     },
     "metadata": {},
     "output_type": "display_data"
    },
    {
     "data": {
      "image/png": "[encoded data removed]",
      "text/plain": [
       "<matplotlib.figure.Figure at 0x1b1683887f0>"
      ]
     },
     "metadata": {},
     "output_type": "display_data"
    },
    {
     "data": {
      "image/png": "[encoded data removed]",
      "text/plain": [
       "<matplotlib.figure.Figure at 0x1b169b1bc88>"
      ]
     },
     "metadata": {},
     "output_type": "display_data"
    },
    {
     "data": {
      "image/png": "[encoded data removed]",
      "text/plain": [
       "<matplotlib.figure.Figure at 0x1b169b35128>"
      ]
     },
     "metadata": {},
     "output_type": "display_data"
    },
    {
     "data": {
      "text/plain": [
       "<matplotlib.figure.Figure at 0x1b169bb1240>"
      ]
     },
     "metadata": {},
     "output_type": "display_data"
    }
   ],
   "source": [
    "def PlotYear(year):\n",
    "    totalyear = merged[merged.yearID==year]\n",
    "    salaryyear = totalyear['salary'].values\n",
    "    Wyear= totalyear['W'].values\n",
    "    teamyear = totalyear['teamID'].values\n",
    "    \n",
    "    X = np.divide(salaryyear, salaries_scale_factor)\n",
    "    Y = Wyear\n",
    "    \n",
    "    colors = ['r' if team=='OAK' else 'b' for team in teamyear]\n",
    "   \n",
    "    plt.scatter(X,Y, c=colors)     \n",
    "    plt.title('Total wins and salaries')    \n",
    "    plt.xlabel('Total salaries')\n",
    "    plt.ylabel('W')\n",
    "               \n",
    "for year in range(1997,2001):\n",
    "               PlotYear(year)\n",
    "               plt.figure()\n",
    "plt.show()\n",
    "\n",
    "#ran into a problem when executing plot"
   ]
  },
  {
   "cell_type": "markdown",
   "metadata": {},
   "source": [
    "## Discussion for Problem 1\n",
    "\n",
    "*Write a brief discussion of your conclusions to the questions and tasks above in 100 words or less.*\n",
    "\n",
    "---\n",
    "After looking at the plots, we can determine that the oakland baseball team was better amongst the other baseball teams based on their win and smaller salaries. "
   ]
  }
 ],
 "metadata": {
  "anaconda-cloud": {},
  "kernelspec": {
   "display_name": "Python [conda root]",
   "language": "python",
   "name": "conda-root-py"
  },
  "language_info": {
   "codemirror_mode": {
    "name": "ipython",
    "version": 3
   },
   "file_extension": ".py",
   "mimetype": "text/x-python",
   "name": "python",
   "nbconvert_exporter": "python",
   "pygments_lexer": "ipython3",
   "version": "3.5.2"
  }
 },
 "nbformat": 4,
 "nbformat_minor": 0
}
